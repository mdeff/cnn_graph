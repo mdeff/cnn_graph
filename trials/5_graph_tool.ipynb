{
 "cells": [
  {
   "cell_type": "markdown",
   "metadata": {},
   "source": [
    "# Trial 5: graph-tool\n",
    "\n",
    "Learn and experiment with [graph-tool](https://graph-tool.skewed.de).\n",
    "\n",
    "Alternatives for graph analysis:\n",
    "* [NetworkX](http://networkx.github.io)\n",
    "* [NetworKit](https://networkit.iti.kit.edu)\n",
    "* [igraph](http://igraph.org)\n",
    "* [GraphLab](https://turi.com)\n",
    "* [GraphX](https://spark.apache.org/graphx)\n",
    "* [Giraph](https://giraph.apache.org)\n",
    "\n",
    "Alternatives for graph visualization:\n",
    "* [Gephi](https://gephi.org)\n",
    "* [Graphviz](http://www.graphviz.org)"
   ]
  },
  {
   "cell_type": "code",
   "execution_count": null,
   "metadata": {},
   "outputs": [],
   "source": [
    "%matplotlib inline\n",
    "\n",
    "import numpy as np\n",
    "import matplotlib.pyplot as plt\n",
    "import seaborn as sns\n",
    "\n",
    "import graph_tool.all as gt\n",
    "#import networkx as nx\n",
    "#import networkit as nk\n",
    "\n",
    "gt.openmp_enabled(), gt.openmp_get_num_threads()"
   ]
  },
  {
   "cell_type": "markdown",
   "metadata": {},
   "source": [
    "## Graph filters and plots"
   ]
  },
  {
   "cell_type": "code",
   "execution_count": null,
   "metadata": {},
   "outputs": [],
   "source": [
    "g, pos = gt.triangulation(np.random.random_sample((500, 2)) * 4, type='delaunay')\n",
    "\n",
    "tree = gt.min_spanning_tree(g2)\n",
    "tv = gt.GraphView(g, efilt=tree)\n",
    "\n",
    "bv, be = gt.betweenness(tv)\n",
    "be.a /= be.a.max() / 5\n",
    "gt.graph_draw(tv, pos, vertex_fill_color=bv, edge_pen_width=be);"
   ]
  },
  {
   "cell_type": "code",
   "execution_count": null,
   "metadata": {},
   "outputs": [],
   "source": [
    "gt.adjacency(g)"
   ]
  },
  {
   "cell_type": "code",
   "execution_count": null,
   "metadata": {},
   "outputs": [],
   "source": [
    "#g = nk.readGraph('graph.gt', nk.Format.GraphToolBinary)"
   ]
  },
  {
   "cell_type": "markdown",
   "metadata": {},
   "source": [
    "## Graph models"
   ]
  },
  {
   "cell_type": "code",
   "execution_count": null,
   "metadata": {},
   "outputs": [],
   "source": [
    "g = gt.collection.data['football']\n",
    "state = gt.minimize_blockmodel_dl(g, deg_corr=False)\n",
    "state.draw(pos=g.vp.pos)"
   ]
  },
  {
   "cell_type": "code",
   "execution_count": null,
   "metadata": {},
   "outputs": [],
   "source": [
    "g = gt.collection.data['celegansneural']\n",
    "state = gt.minimize_nested_blockmodel_dl(g, deg_corr=True)\n",
    "state.draw()\n",
    "state.print_summary()"
   ]
  }
 ],
 "metadata": {},
 "nbformat": 4,
 "nbformat_minor": 2
}